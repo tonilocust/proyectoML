{
 "cells": [
  {
   "cell_type": "code",
   "execution_count": 1,
   "metadata": {},
   "outputs": [],
   "source": [
    "import pandas as pd\n",
    "from sklearn.model_selection import train_test_split\n",
    "from sklearn.ensemble import RandomForestClassifier\n",
    "from sklearn.metrics import accuracy_score, precision_score, recall_score\n",
    "from sklearn.model_selection import GridSearchCV\n",
    "from sklearn.preprocessing import StandardScaler\n",
    "from sklearn.model_selection import cross_val_score"
   ]
  },
  {
   "cell_type": "code",
   "execution_count": 2,
   "metadata": {},
   "outputs": [],
   "source": [
    "df = pd.read_csv('train.csv')"
   ]
  },
  {
   "cell_type": "code",
   "execution_count": 3,
   "metadata": {},
   "outputs": [],
   "source": [
    "df2 = pd.read_csv('test.csv')"
   ]
  },
  {
   "cell_type": "code",
   "execution_count": 4,
   "metadata": {},
   "outputs": [],
   "source": [
    "X = df.drop(columns=['red', 'white', 'quality'], axis=1)\n",
    "y = df['red']"
   ]
  },
  {
   "cell_type": "code",
   "execution_count": 5,
   "metadata": {},
   "outputs": [],
   "source": [
    "X_train, X_test, y_train, y_test = train_test_split(X, y, test_size=0.2, random_state=42)"
   ]
  },
  {
   "cell_type": "code",
   "execution_count": 6,
   "metadata": {},
   "outputs": [
    {
     "name": "stdout",
     "output_type": "stream",
     "text": [
      "[[-0.62843448 -0.60463582 -0.3312876  ... -0.53778054 -1.52540764\n",
      "   1.58607761]\n",
      " [-0.5510269  -0.3008075  -0.12303412 ...  0.1424168   0.17093155\n",
      "   0.69673691]\n",
      " [ 0.6100868  -0.36157317  0.84881549 ...  0.88445026  0.8233697\n",
      "   0.58556932]\n",
      " ...\n",
      " [-1.01547238 -0.48310449  0.57114418 ...  1.44097535 -0.02479989\n",
      "  -0.08143621]\n",
      " [ 0.30045648 -0.42233883  1.40415813 ... -1.21797787 -0.02479989\n",
      "   0.7523207 ]\n",
      " [-0.00917384 -0.60463582 -0.19245195 ...  0.32792517  0.69288207\n",
      "   0.41881794]]\n"
     ]
    }
   ],
   "source": [
    "norm = StandardScaler()\n",
    "\n",
    "norm_fit = norm.fit(X_train)\n",
    "X_train_norm = norm_fit.transform(X_train)\n",
    "X_test_norm = norm_fit.transform(X_test)\n",
    "\n",
    "print(X_train_norm)"
   ]
  },
  {
   "cell_type": "code",
   "execution_count": 7,
   "metadata": {},
   "outputs": [
    {
     "data": {
      "text/plain": [
       "0.9961538461538462"
      ]
     },
     "execution_count": 7,
     "metadata": {},
     "output_type": "execute_result"
    }
   ],
   "source": [
    "rf = RandomForestClassifier(n_estimators=300,\n",
    "                            min_samples_split=2,\n",
    "                            random_state=42)\n",
    "rf.fit(X_train_norm, y_train)\n",
    "\n",
    "y_pred = rf.predict(X_test_norm)\n",
    "\n",
    "accuracy_score(y_test, y_pred)"
   ]
  },
  {
   "cell_type": "code",
   "execution_count": 8,
   "metadata": {},
   "outputs": [
    {
     "name": "stdout",
     "output_type": "stream",
     "text": [
      "Cross-validation scores (train): [0.99519231 0.98798077 0.99638989 0.99277978 0.99277978]\n",
      "Mean Accuracy (train): 0.9930245070813664\n",
      "Standard Deviation (train): 0.0028838947266019983\n"
     ]
    }
   ],
   "source": [
    "cv_scores = cross_val_score(rf, X_train_norm, y_train, cv=5, scoring='accuracy')\n",
    "\n",
    "print(\"Cross-validation scores (train):\", cv_scores)\n",
    "\n",
    "print(\"Mean Accuracy (train):\", cv_scores.mean())\n",
    "print(\"Standard Deviation (train):\", cv_scores.std())"
   ]
  },
  {
   "cell_type": "code",
   "execution_count": 39,
   "metadata": {},
   "outputs": [
    {
     "data": {
      "text/plain": [
       "array([0, 0, 0, ..., 0, 1, 0], dtype=int64)"
      ]
     },
     "execution_count": 39,
     "metadata": {},
     "output_type": "execute_result"
    }
   ],
   "source": [
    "y_pred"
   ]
  },
  {
   "cell_type": "code",
   "execution_count": 9,
   "metadata": {},
   "outputs": [],
   "source": [
    "df2 = pd.read_csv('test.csv')"
   ]
  },
  {
   "cell_type": "code",
   "execution_count": 10,
   "metadata": {},
   "outputs": [],
   "source": [
    "X = df2.drop(columns=['red', 'white', 'quality'], axis=1)\n",
    "y = df2['red']"
   ]
  },
  {
   "cell_type": "code",
   "execution_count": 11,
   "metadata": {},
   "outputs": [],
   "source": [
    "X_train, X_test, y_train, y_test = train_test_split(X, y, test_size=0.2, random_state=42)"
   ]
  },
  {
   "cell_type": "code",
   "execution_count": 12,
   "metadata": {},
   "outputs": [
    {
     "data": {
      "text/plain": [
       "0.9884615384615385"
      ]
     },
     "execution_count": 12,
     "metadata": {},
     "output_type": "execute_result"
    }
   ],
   "source": [
    "rf = RandomForestClassifier(n_estimators=300,\n",
    "                            min_samples_split=2,\n",
    "                            random_state=42)\n",
    "rf.fit(X_train, y_train)\n",
    "\n",
    "y_pred = rf.predict(X_test)\n",
    "\n",
    "accuracy_score(y_test, y_pred)"
   ]
  },
  {
   "cell_type": "code",
   "execution_count": 13,
   "metadata": {},
   "outputs": [],
   "source": [
    "import pickle\n",
    "\n",
    "with open('RandomForest.pkl', 'wb') as f:\n",
    "    pickle.dump(rf, f)"
   ]
  }
 ],
 "metadata": {
  "kernelspec": {
   "display_name": "Python 3",
   "language": "python",
   "name": "python3"
  },
  "language_info": {
   "codemirror_mode": {
    "name": "ipython",
    "version": 3
   },
   "file_extension": ".py",
   "mimetype": "text/x-python",
   "name": "python",
   "nbconvert_exporter": "python",
   "pygments_lexer": "ipython3",
   "version": "3.10.9"
  },
  "orig_nbformat": 4
 },
 "nbformat": 4,
 "nbformat_minor": 2
}
